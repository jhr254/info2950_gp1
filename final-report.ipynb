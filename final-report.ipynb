{
 "cells": [
  {
   "cell_type": "markdown",
   "id": "54cf432d",
   "metadata": {},
   "source": [
    "# Bechdel Test in Film\n",
    "*Final Report, INFO 2950*<br>\n",
    "Hal Reed (jhr254)"
   ]
  },
  {
   "cell_type": "markdown",
   "id": "63934e38",
   "metadata": {},
   "source": [
    "### Introduction"
   ]
  },
  {
   "cell_type": "markdown",
   "id": "f22f858b",
   "metadata": {},
   "source": [
    "### Data Description"
   ]
  },
  {
   "cell_type": "markdown",
   "id": "6115d442",
   "metadata": {},
   "source": [
    "### Preregistration Statement"
   ]
  },
  {
   "cell_type": "markdown",
   "id": "d64be52c",
   "metadata": {},
   "source": [
    "### Data Analysis"
   ]
  },
  {
   "cell_type": "markdown",
   "id": "446e2b18",
   "metadata": {},
   "source": [
    "### Evaluation of Significance"
   ]
  },
  {
   "cell_type": "markdown",
   "id": "68ca9eda",
   "metadata": {},
   "source": [
    "### Interpretation and Conclusions"
   ]
  },
  {
   "cell_type": "markdown",
   "id": "bc149d52",
   "metadata": {},
   "source": [
    "### Limitations"
   ]
  },
  {
   "cell_type": "markdown",
   "id": "b44779c9",
   "metadata": {},
   "source": [
    "### Source Code"
   ]
  },
  {
   "cell_type": "markdown",
   "id": "2c0158ae",
   "metadata": {},
   "source": [
    "### Acknowledgments"
   ]
  },
  {
   "cell_type": "markdown",
   "id": "4cc324be",
   "metadata": {},
   "source": [
    "### Appendix: Data Cleaning Description"
   ]
  },
  {
   "cell_type": "markdown",
   "id": "153c487b",
   "metadata": {},
   "source": [
    "### Other Appendices"
   ]
  },
  {
   "cell_type": "code",
   "execution_count": null,
   "id": "0016d93f",
   "metadata": {},
   "outputs": [],
   "source": []
  }
 ],
 "metadata": {
  "kernelspec": {
   "display_name": "Python 3 (ipykernel)",
   "language": "python",
   "name": "python3"
  },
  "language_info": {
   "codemirror_mode": {
    "name": "ipython",
    "version": 3
   },
   "file_extension": ".py",
   "mimetype": "text/x-python",
   "name": "python",
   "nbconvert_exporter": "python",
   "pygments_lexer": "ipython3",
   "version": "3.8.13"
  }
 },
 "nbformat": 4,
 "nbformat_minor": 5
}
